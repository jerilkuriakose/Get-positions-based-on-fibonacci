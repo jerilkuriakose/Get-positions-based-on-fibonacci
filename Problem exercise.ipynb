{
 "cells": [
  {
   "cell_type": "markdown",
   "metadata": {},
   "source": [
    "## Program to get all the characters in that message at positions that are present in the Fibonacci sequence"
   ]
  },
  {
   "cell_type": "code",
   "execution_count": 1,
   "metadata": {
    "collapsed": true
   },
   "outputs": [],
   "source": [
    "from math import sqrt"
   ]
  },
  {
   "cell_type": "code",
   "execution_count": 2,
   "metadata": {
    "collapsed": true
   },
   "outputs": [],
   "source": [
    "# message = \"The Da Vinci Code is a 2003 mystery-detective novel by Dan Brown\""
   ]
  },
  {
   "cell_type": "markdown",
   "metadata": {},
   "source": [
    "### Returns the fibonacci values of the given number\n",
    "e.g., fibo(10) --> 55.000000000000014"
   ]
  },
  {
   "cell_type": "code",
   "execution_count": 3,
   "metadata": {
    "collapsed": true
   },
   "outputs": [],
   "source": [
    "def fibo(n):\n",
    "    return ((1+sqrt(5))**n-(1-sqrt(5))**n)/(2**n*sqrt(5))"
   ]
  },
  {
   "cell_type": "markdown",
   "metadata": {},
   "source": [
    "### Function that return the characters of message at fibonacci positions"
   ]
  },
  {
   "cell_type": "code",
   "execution_count": 4,
   "metadata": {
    "collapsed": true
   },
   "outputs": [],
   "source": [
    "def FibonacciSecret(message):\n",
    "    message = message.replace(' ', '')\n",
    "    result = []\n",
    "    for i in range(len(message)):\n",
    "        result.append(message[int(fibo(i))].upper())\n",
    "        if fibo(i + 1) > len(message):\n",
    "            break\n",
    "    return '-'.join(result)"
   ]
  },
  {
   "cell_type": "markdown",
   "metadata": {},
   "source": [
    "### Get user inputs, 1 ≤ message.length ≤ 255"
   ]
  },
  {
   "cell_type": "code",
   "execution_count": 5,
   "metadata": {
    "collapsed": false
   },
   "outputs": [
    {
     "name": "stdout",
     "output_type": "stream",
     "text": [
      "Enter the message: \n",
      "Kindly enter a message between length 1 and 255\n",
      "Enter the message: The Da Vinci Code is a 2003 mystery-detective novel by Dan Brown\n"
     ]
    }
   ],
   "source": [
    "while True:\n",
    "    message = raw_input(\"Enter the message: \")\n",
    "    if len(message) > 0 and len(message) <= 255:\n",
    "        break\n",
    "    else:\n",
    "        print(\"Kindly enter a message between length 1 and 255\")"
   ]
  },
  {
   "cell_type": "markdown",
   "metadata": {},
   "source": [
    "### Call the function that returns our required results"
   ]
  },
  {
   "cell_type": "code",
   "execution_count": 6,
   "metadata": {
    "collapsed": false
   },
   "outputs": [
    {
     "name": "stdout",
     "output_type": "stream",
     "text": [
      "T-H-H-E-D-V-C-E-M-T\n"
     ]
    }
   ],
   "source": [
    "print FibonacciSecret(message)"
   ]
  },
  {
   "cell_type": "markdown",
   "metadata": {},
   "source": [
    "### Calculate the time taken"
   ]
  },
  {
   "cell_type": "code",
   "execution_count": 7,
   "metadata": {
    "collapsed": false
   },
   "outputs": [
    {
     "name": "stdout",
     "output_type": "stream",
     "text": [
      "10000 loops, best of 3: 88.4 µs per loop\n"
     ]
    }
   ],
   "source": [
    "%timeit FibonacciSecret(message)"
   ]
  }
 ],
 "metadata": {
  "kernelspec": {
   "display_name": "Python 2",
   "language": "python",
   "name": "python2"
  },
  "language_info": {
   "codemirror_mode": {
    "name": "ipython",
    "version": 2
   },
   "file_extension": ".py",
   "mimetype": "text/x-python",
   "name": "python",
   "nbconvert_exporter": "python",
   "pygments_lexer": "ipython2",
   "version": "2.7.12"
  }
 },
 "nbformat": 4,
 "nbformat_minor": 1
}
